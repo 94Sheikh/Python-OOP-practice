{
 "cells": [
  {
   "cell_type": "markdown",
   "id": "82dd9312",
   "metadata": {},
   "source": [
    "# Python OOP exesrcies sheet"
   ]
  },
  {
   "cell_type": "raw",
   "id": "85876813",
   "metadata": {},
   "source": [
    "Create a class Person with attributes name, age, and address. Use encapsulation to make these attributes private and provide getter and setter methods for each attribute."
   ]
  },
  {
   "cell_type": "code",
   "execution_count": 1,
   "id": "980d0da9",
   "metadata": {},
   "outputs": [
    {
     "name": "stdout",
     "output_type": "stream",
     "text": [
      "Name:\t\tFaisal\n",
      "Age:\t\t30\n",
      "Address:\t30/21 sector 11G\n",
      "Name:\t\t Haider\n",
      "Age:\t\t 17\n",
      "Address:\t 8number\n"
     ]
    }
   ],
   "source": [
    "class Person:\n",
    "    def __init__(self, name, age, address):\n",
    "        self.__name = name\n",
    "        self.__age = age\n",
    "        self.__address = address\n",
    "        \n",
    "    def get_name(self):\n",
    "        return self.__name\n",
    "    def set_name(self, name):\n",
    "        self.__name = name\n",
    "        \n",
    "    def get_age(self):\n",
    "        return self.__age\n",
    "    def set_age(self, age):\n",
    "        self.__age = age\n",
    "        \n",
    "    def get_address(self):\n",
    "        return self.__address\n",
    "    def set_address(self, address):\n",
    "        self.__address = address\n",
    "        \n",
    "    def display(self):\n",
    "        print(f\"Name:\\t\\t{self.__name}\\nAge:\\t\\t{self.__age}\\nAddress:\\t{self.__address}\")\n",
    "        \n",
    "        \n",
    "class Student(Person):\n",
    "    pass\n",
    "    \n",
    "        \n",
    "p1 = Person(\"Faisal\", 30, \"30/21 sector 11G\")\n",
    "p1.display()\n",
    "\n",
    "p1.set_name(\"Haider\")\n",
    "print(\"Name:\\t\\t\", p1.get_name())\n",
    "\n",
    "p1.set_age(17)\n",
    "print(\"Age:\\t\\t\", p1.get_age())\n",
    "\n",
    "p1.set_address(\"8number\")\n",
    "print(\"Address:\\t\",p1.get_address())\n"
   ]
  },
  {
   "cell_type": "raw",
   "id": "0aacd6c1",
   "metadata": {},
   "source": [
    "Create a class Student that inherits from the Person class. Add a new attribute student_id to the Student class. Also, override the display() method of the Person class in the Student class to include the student_id."
   ]
  },
  {
   "cell_type": "code",
   "execution_count": 2,
   "id": "a28de963",
   "metadata": {},
   "outputs": [],
   "source": [
    "class Person:\n",
    "    def __init__(self, name, age, address):\n",
    "        self.__name = name\n",
    "        self.__age = age\n",
    "        self.__address = address\n",
    "        \n",
    "    def get_name(self):\n",
    "        return self.__name\n",
    "    def set_name(self, name):\n",
    "        self.__name = name\n",
    "        \n",
    "    def get_age(self):\n",
    "        return self.__age\n",
    "    def set_age(self, age):\n",
    "        self.__age = age\n",
    "        \n",
    "    def get_address(self):\n",
    "        return self.__address\n",
    "    def set_address(self, address):\n",
    "        self.__address = address\n",
    "        \n",
    "    def display(self):\n",
    "        print(f\"Name:\\t\\t{self.__name}\\nAge:\\t\\t{self.__age}\\nAddress:\\t{self.__address}\")\n",
    "        \n",
    "        \n",
    "class Student(Person):\n",
    "    def __init__(self, name, age, address,student_id):\n",
    "        self.student_id = student_id\n",
    "        super().__init__(name,age,address)\n",
    "        \n",
    "    def display(self):\n",
    "        super().display()\n",
    "        print(f\"Student Id:\\t{self.student_id}\")\n",
    "        \n"
   ]
  },
  {
   "cell_type": "code",
   "execution_count": 3,
   "id": "7e7c9a10",
   "metadata": {},
   "outputs": [
    {
     "name": "stdout",
     "output_type": "stream",
     "text": [
      "Name:\t\tHaider\n",
      "Age:\t\t17\n",
      "Address:\t11G\n",
      "Student Id:\t11B\n"
     ]
    }
   ],
   "source": [
    "# p1 = Person(\"Faisal\", 30, \"30/21 sector 11G\")\n",
    "# p1.display()\n",
    "\n",
    "# p1.set_name(\"Haider\")\n",
    "# print(\"Name:\\t\\t\", p1.get_name())\n",
    "\n",
    "# p1.set_age(17)\n",
    "# print(\"Age:\\t\\t\", p1.get_age())\n",
    "\n",
    "# p1.set_address(\"8number\")\n",
    "# print(\"Address:\\t\",p1.get_address())\n",
    "\n",
    "stud1 = Student(\"Haider\",\"17\",\"11G\",\"11B\")\n",
    "stud1.display()\n"
   ]
  },
  {
   "cell_type": "raw",
   "id": "20032d18",
   "metadata": {},
   "source": [
    "Create a class Shape with attributes length and width. Provide a constructor that initializes these attributes. Add a method area() that calculates and returns the area of the shape."
   ]
  },
  {
   "cell_type": "code",
   "execution_count": 4,
   "id": "ba4e63e6",
   "metadata": {},
   "outputs": [
    {
     "name": "stdout",
     "output_type": "stream",
     "text": [
      "Area of the shape is 1404\n"
     ]
    }
   ],
   "source": [
    "class Shap:\n",
    "    def __init__(self, length, width):\n",
    "        self.length = length\n",
    "        self.width = width\n",
    "        \n",
    "    def area(self):\n",
    "        shap_area = self.length * self.width\n",
    "        print(f\"Area of the shape is {shap_area}\")\n",
    "        \n",
    "shap1 = Shap(36,39)\n",
    "shap1.area()"
   ]
  },
  {
   "cell_type": "raw",
   "id": "4730d7b9",
   "metadata": {},
   "source": [
    "Create a class Rectangle that inherits from the Shape class. Add a method perimeter() that calculates and returns the perimeter of the rectangle."
   ]
  },
  {
   "cell_type": "code",
   "execution_count": 5,
   "id": "72dc410f",
   "metadata": {},
   "outputs": [
    {
     "name": "stdout",
     "output_type": "stream",
     "text": [
      "Perimeter of the Rectangle is 32\n",
      "Perimeter of the Rectangle is 34\n"
     ]
    }
   ],
   "source": [
    "class Shap:\n",
    "    def __init__(self, length, width):\n",
    "        self.length = length\n",
    "        self.width = width\n",
    "        \n",
    "    def area(self):\n",
    "        shap_area = self.length * self.width\n",
    "        print(f\"Area of the shape is {shap_area}\")\n",
    "        \n",
    "class Rectangle(Shap):\n",
    "    def perimeter(self):\n",
    "        P=2 * (self.length + self.width)\n",
    "        print(f\"Perimeter of the Rectangle is {P}\")\n",
    "        \n",
    "rect1 = Rectangle(8,8)\n",
    "rect1.perimeter()\n",
    "rect2 = Rectangle(8,9)\n",
    "rect2.perimeter()\n",
    "\n",
    "\n",
    "\n",
    "\n",
    "    "
   ]
  },
  {
   "cell_type": "raw",
   "id": "22711d22",
   "metadata": {},
   "source": [
    "Create a class Circle that inherits from the Shape class. Add a new attribute radius to the Circle class. Override the area() method of the Shape class to calculate and return the area of the circle. Also, add a method circumference() that calculates and returns the circumference of the circle."
   ]
  },
  {
   "cell_type": "code",
   "execution_count": 6,
   "id": "58765e7e",
   "metadata": {},
   "outputs": [
    {
     "name": "stdout",
     "output_type": "stream",
     "text": [
      "Area of the circle is 201.06192982974676\n",
      "Circumferiance of the circle is 50.26548245743669\n"
     ]
    }
   ],
   "source": [
    "import math\n",
    "class Shape:\n",
    "    def __init__(self, length, width):\n",
    "        self.length = length\n",
    "        self.width = width\n",
    "        \n",
    "    def area(self):\n",
    "        shap_area = self.length * self.width\n",
    "        print(f\"Area of the shape is {shap_area}\")\n",
    "        \n",
    "class Circle(Shape):\n",
    "    def __init__(self, radius): #,length,width,\n",
    "        self.radius = radius\n",
    "        #super().__init__(length,width)\n",
    "        \n",
    "    def area(self):\n",
    "        #super().area()\n",
    "       # A = π * r ** 2\n",
    "        A = math.pi * self.radius ** 2\n",
    "        \n",
    "        print(f\"Area of the circle is {A}\")\n",
    "        \n",
    "    def circumferiance(self):\n",
    "       # C = 2 * π * r\n",
    "        C = 2 * math.pi * self.radius\n",
    "        print(f\"Circumferiance of the circle is {C}\")\n",
    "    \n",
    "        \n",
    "circle1 = Circle(8)\n",
    "circle1.area()\n",
    "circle1.circumferiance()\n",
    "    "
   ]
  },
  {
   "cell_type": "raw",
   "id": "ef5f814d",
   "metadata": {},
   "source": [
    "Create a class Animal with a method speak() that prints a message saying that the animal is speaking. Create two subclasses Dog and Cat that override the speak() method to print a message saying that the dog or cat is barking or meowing respectively."
   ]
  },
  {
   "cell_type": "code",
   "execution_count": 7,
   "id": "7d93b5e7",
   "metadata": {},
   "outputs": [
    {
     "name": "stdout",
     "output_type": "stream",
     "text": [
      "Dog is barking\n",
      "Cat is meowing\n"
     ]
    }
   ],
   "source": [
    "class Animal:\n",
    "    def speak(self):\n",
    "        print(\" The Animal is speaking\")\n",
    "        \n",
    "class Dog(Animal):\n",
    "    def speak(self):\n",
    "        print(\"Dog is barking\")\n",
    "        \n",
    "class Cat(Animal):\n",
    "    def speak(self):\n",
    "        print(\"Cat is meowing\")\n",
    "        \n",
    "dog = Dog()\n",
    "dog.speak()\n",
    "\n",
    "cat = Cat()\n",
    "cat.speak()"
   ]
  },
  {
   "cell_type": "raw",
   "id": "d60d7bf4",
   "metadata": {},
   "source": [
    "Create a class BankAccount with attributes balance and interest_rate. Provide a constructor that initializes these attributes. Add methods deposit() and withdraw() that modify the balance attribute. Add a method add_interest() that adds interest to the account based on the interest_rate attribute."
   ]
  },
  {
   "cell_type": "code",
   "execution_count": 8,
   "id": "4481268b",
   "metadata": {},
   "outputs": [
    {
     "ename": "SyntaxError",
     "evalue": "invalid syntax (1756039772.py, line 24)",
     "output_type": "error",
     "traceback": [
      "\u001b[1;36m  File \u001b[1;32m\"C:\\Users\\a\\AppData\\Local\\Temp\\ipykernel_4316\\1756039772.py\"\u001b[1;36m, line \u001b[1;32m24\u001b[0m\n\u001b[1;33m    class\u001b[0m\n\u001b[1;37m           ^\u001b[0m\n\u001b[1;31mSyntaxError\u001b[0m\u001b[1;31m:\u001b[0m invalid syntax\n"
     ]
    }
   ],
   "source": [
    "class BankAccount:\n",
    "    def __init__(self,balance,intrest_rate):\n",
    "        self.balance = balance\n",
    "        self.intrest_rate = intrest_rate\n",
    "        \n",
    "        \n",
    "    def deposit(self, amount):\n",
    "        self.balance += amount\n",
    "        print(f\"Your deposite amount {amount} & Your balance is {self.balance}\")\n",
    "        \n",
    "    def withdraw(self, amount):\n",
    "        if amount > self.balance:\n",
    "            print(\"Insufficiant Fund\")\n",
    "            \n",
    "        else:\n",
    "            self.balance -= amount\n",
    "            print(f\"you withdrawl amount is {amount} & your balnce is {self.balance}\")\n",
    "            \n",
    "    def add_intrest(self):\n",
    "        intrest = self.balance * self.intrest_rate\n",
    "        self.balance += intrest\n",
    "        print(f\"Your new balance is {self.balance}\")\n",
    "        \n",
    "class  \n",
    "        \n",
    "acount = BankAccount(3500, 3)\n",
    "acount.deposit(200)\n",
    "acount.withdraw(300)\n",
    "acount.add_intrest()"
   ]
  },
  {
   "cell_type": "raw",
   "id": "0528b8cd",
   "metadata": {},
   "source": [
    "Create a class CheckingAccount that inherits from the BankAccount class. Override the withdraw() method to include a fee of $1 for every withdrawal."
   ]
  },
  {
   "cell_type": "code",
   "execution_count": 11,
   "id": "c2cbe98b",
   "metadata": {},
   "outputs": [
    {
     "name": "stdout",
     "output_type": "stream",
     "text": [
      "you withdrawl amount is 500 & your balnce is 3000\n"
     ]
    }
   ],
   "source": [
    "class BankAccount:\n",
    "    def __init__(self,balance,intrest_rate):\n",
    "        self.balance = balance\n",
    "        self.intrest_rate = intrest_rate\n",
    "        \n",
    "        \n",
    "    def deposit(self, amount):\n",
    "        self.balance += amount\n",
    "        print(f\"Your deposite amount {amount} & Your balance is {self.balance}\")\n",
    "        \n",
    "    def withdraw(self, amount):\n",
    "        if amount > self.balance:\n",
    "            print(\"Insufficiant Fund\")\n",
    "            \n",
    "        else:\n",
    "            self.balance -= amount\n",
    "            print(f\"you withdrawl amount is {amount} & your balnce is {self.balance}\")\n",
    "            \n",
    "    def add_intrest(self):\n",
    "        intrest = self.balance * self.intrest_rate\n",
    "        self.balance += intrest\n",
    "        print(f\"Your new balance is {self.balance}\")\n",
    "        \n",
    "class CheckingAccount(BankAccount):\n",
    "    def withdrw(self, amount):\n",
    "        fee = 1\n",
    "        total_amount += amount + 1\n",
    "        if amount > self.balance:\n",
    "            print(\"Insufficiant Fund\")\n",
    "            \n",
    "        else:\n",
    "            \n",
    "            self.balance -= total_amount\n",
    "            print(f\"you withdraw {amount} & 1$ fee on this withdraw\")\n",
    "            \n",
    "acount = CheckingAccount(3500, 70)\n",
    "acount.withdraw(500)\n",
    "            \n",
    "        \n",
    "        "
   ]
  },
  {
   "cell_type": "code",
   "execution_count": null,
   "id": "301caac1",
   "metadata": {},
   "outputs": [],
   "source": []
  },
  {
   "cell_type": "code",
   "execution_count": null,
   "id": "068b762f",
   "metadata": {},
   "outputs": [],
   "source": []
  }
 ],
 "metadata": {
  "kernelspec": {
   "display_name": "Python 3 (ipykernel)",
   "language": "python",
   "name": "python3"
  },
  "language_info": {
   "codemirror_mode": {
    "name": "ipython",
    "version": 3
   },
   "file_extension": ".py",
   "mimetype": "text/x-python",
   "name": "python",
   "nbconvert_exporter": "python",
   "pygments_lexer": "ipython3",
   "version": "3.9.13"
  }
 },
 "nbformat": 4,
 "nbformat_minor": 5
}
